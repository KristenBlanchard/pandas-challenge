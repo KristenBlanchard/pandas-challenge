{
 "cells": [
  {
   "cell_type": "markdown",
   "metadata": {},
   "source": [
    "### Note\n",
    "* Instructions have been included for each segment. You do not have to follow them exactly, but they are included to help you think through the steps."
   ]
  },
  {
   "cell_type": "code",
   "execution_count": 1,
   "metadata": {},
   "outputs": [
    {
     "output_type": "execute_result",
     "data": {
      "text/plain": "   Purchase ID             SN  Age Gender  Item ID  \\\n0            0        Lisim78   20   Male      108   \n1            1    Lisovynya38   40   Male      143   \n2            2     Ithergue48   24   Male       92   \n3            3  Chamassasya86   24   Male      100   \n4            4      Iskosia90   23   Male      131   \n\n                                   Item Name  Price  \n0  Extraction, Quickblade Of Trembling Hands   3.53  \n1                          Frenzied Scimitar   1.56  \n2                               Final Critic   4.88  \n3                                Blindscythe   3.27  \n4                                       Fury   1.44  ",
      "text/html": "<div>\n<style scoped>\n    .dataframe tbody tr th:only-of-type {\n        vertical-align: middle;\n    }\n\n    .dataframe tbody tr th {\n        vertical-align: top;\n    }\n\n    .dataframe thead th {\n        text-align: right;\n    }\n</style>\n<table border=\"1\" class=\"dataframe\">\n  <thead>\n    <tr style=\"text-align: right;\">\n      <th></th>\n      <th>Purchase ID</th>\n      <th>SN</th>\n      <th>Age</th>\n      <th>Gender</th>\n      <th>Item ID</th>\n      <th>Item Name</th>\n      <th>Price</th>\n    </tr>\n  </thead>\n  <tbody>\n    <tr>\n      <th>0</th>\n      <td>0</td>\n      <td>Lisim78</td>\n      <td>20</td>\n      <td>Male</td>\n      <td>108</td>\n      <td>Extraction, Quickblade Of Trembling Hands</td>\n      <td>3.53</td>\n    </tr>\n    <tr>\n      <th>1</th>\n      <td>1</td>\n      <td>Lisovynya38</td>\n      <td>40</td>\n      <td>Male</td>\n      <td>143</td>\n      <td>Frenzied Scimitar</td>\n      <td>1.56</td>\n    </tr>\n    <tr>\n      <th>2</th>\n      <td>2</td>\n      <td>Ithergue48</td>\n      <td>24</td>\n      <td>Male</td>\n      <td>92</td>\n      <td>Final Critic</td>\n      <td>4.88</td>\n    </tr>\n    <tr>\n      <th>3</th>\n      <td>3</td>\n      <td>Chamassasya86</td>\n      <td>24</td>\n      <td>Male</td>\n      <td>100</td>\n      <td>Blindscythe</td>\n      <td>3.27</td>\n    </tr>\n    <tr>\n      <th>4</th>\n      <td>4</td>\n      <td>Iskosia90</td>\n      <td>23</td>\n      <td>Male</td>\n      <td>131</td>\n      <td>Fury</td>\n      <td>1.44</td>\n    </tr>\n  </tbody>\n</table>\n</div>"
     },
     "metadata": {},
     "execution_count": 1
    }
   ],
   "source": [
    "# Dependencies and Setup\n",
    "import pandas as pd\n",
    "\n",
    "# File to Load (Remember to Change These)\n",
    "file_to_load = \"Resources/purchase_data.csv\"\n",
    "\n",
    "# Read Purchasing File and store into Pandas data frame\n",
    "purchase_data = pd.read_csv(file_to_load)\n",
    "purchase_data.head()"
   ]
  },
  {
   "cell_type": "markdown",
   "metadata": {},
   "source": [
    "## Player Count"
   ]
  },
  {
   "cell_type": "markdown",
   "metadata": {},
   "source": [
    "* Display the total number of players\n"
   ]
  },
  {
   "cell_type": "code",
   "execution_count": 2,
   "metadata": {},
   "outputs": [
    {
     "output_type": "execute_result",
     "data": {
      "text/plain": "   Total Players\n0            576",
      "text/html": "<div>\n<style scoped>\n    .dataframe tbody tr th:only-of-type {\n        vertical-align: middle;\n    }\n\n    .dataframe tbody tr th {\n        vertical-align: top;\n    }\n\n    .dataframe thead th {\n        text-align: right;\n    }\n</style>\n<table border=\"1\" class=\"dataframe\">\n  <thead>\n    <tr style=\"text-align: right;\">\n      <th></th>\n      <th>Total Players</th>\n    </tr>\n  </thead>\n  <tbody>\n    <tr>\n      <th>0</th>\n      <td>576</td>\n    </tr>\n  </tbody>\n</table>\n</div>"
     },
     "metadata": {},
     "execution_count": 2
    }
   ],
   "source": [
    "# Determine total players\n",
    "total_players = len(purchase_data[\"SN\"].unique())\n",
    "total_players_df = pd.DataFrame({\"Total Players\":[total_players]})\n",
    "total_players_df"
   ]
  },
  {
   "cell_type": "markdown",
   "metadata": {},
   "source": [
    "## Purchasing Analysis (Total)"
   ]
  },
  {
   "cell_type": "markdown",
   "metadata": {},
   "source": [
    "* Run basic calculations to obtain number of unique items, average price, etc.\n",
    "\n",
    "\n",
    "* Create a summary data frame to hold the results\n",
    "\n",
    "\n",
    "* Optional: give the displayed data cleaner formatting\n",
    "\n",
    "\n",
    "* Display the summary data frame\n"
   ]
  },
  {
   "cell_type": "code",
   "execution_count": 3,
   "metadata": {
    "scrolled": true
   },
   "outputs": [
    {
     "output_type": "execute_result",
     "data": {
      "text/plain": "   Number of Unique Items Average Price  Number of Purchases Total Revenue\n0                     179         $3.05                  780     $2,379.77",
      "text/html": "<div>\n<style scoped>\n    .dataframe tbody tr th:only-of-type {\n        vertical-align: middle;\n    }\n\n    .dataframe tbody tr th {\n        vertical-align: top;\n    }\n\n    .dataframe thead th {\n        text-align: right;\n    }\n</style>\n<table border=\"1\" class=\"dataframe\">\n  <thead>\n    <tr style=\"text-align: right;\">\n      <th></th>\n      <th>Number of Unique Items</th>\n      <th>Average Price</th>\n      <th>Number of Purchases</th>\n      <th>Total Revenue</th>\n    </tr>\n  </thead>\n  <tbody>\n    <tr>\n      <th>0</th>\n      <td>179</td>\n      <td>$3.05</td>\n      <td>780</td>\n      <td>$2,379.77</td>\n    </tr>\n  </tbody>\n</table>\n</div>"
     },
     "metadata": {},
     "execution_count": 3
    }
   ],
   "source": [
    "# Number of unique items\n",
    "unique_items = len(purchase_data[\"Item ID\"].unique())\n",
    "\n",
    "# Average purchase price\n",
    "average_price = purchase_data[\"Price\"].mean()\n",
    "\n",
    "# Total number of purchases\n",
    "total_purchases = purchase_data[\"Purchase ID\"].count()\n",
    "\n",
    "# Total revenue\n",
    "total_revenue = purchase_data[\"Price\"].sum()\n",
    "\n",
    "# Create dataframe to store information\n",
    "Purchasing_Analysis_df = pd.DataFrame({\"Number of Unique Items\": [unique_items], \"Average Price\": average_price, \"Number of Purchases\": total_purchases, \"Total Revenue\": total_revenue})\n",
    "\n",
    "# Data formatting\n",
    "Purchasing_Analysis_df[\"Average Price\"] = Purchasing_Analysis_df[\"Average Price\"].map(\"${:.2f}\".format)\n",
    "Purchasing_Analysis_df[\"Total Revenue\"] = Purchasing_Analysis_df[\"Total Revenue\"].map(\"${:,.2f}\".format)\n",
    "\n",
    "Purchasing_Analysis_df"
   ]
  },
  {
   "cell_type": "markdown",
   "metadata": {},
   "source": [
    "## Gender Demographics"
   ]
  },
  {
   "cell_type": "markdown",
   "metadata": {},
   "source": [
    "* Percentage and Count of Male Players\n",
    "\n",
    "\n",
    "* Percentage and Count of Female Players\n",
    "\n",
    "\n",
    "* Percentage and Count of Other / Non-Disclosed\n",
    "\n",
    "\n"
   ]
  },
  {
   "cell_type": "code",
   "execution_count": 4,
   "metadata": {},
   "outputs": [
    {
     "output_type": "execute_result",
     "data": {
      "text/plain": "<pandas.io.formats.style.Styler at 0x7fcf88343ac8>",
      "text/html": "<style  type=\"text/css\" >\n</style><table id=\"T_8478a894_e4b3_11ea_8f33_9801a7acd4e9\" ><thead>    <tr>        <th class=\"blank level0\" ></th>        <th class=\"col_heading level0 col0\" >Percentage of Players</th>        <th class=\"col_heading level0 col1\" >Total Count</th>    </tr>    <tr>        <th class=\"index_name level0\" >Gender</th>        <th class=\"blank\" ></th>        <th class=\"blank\" ></th>    </tr></thead><tbody>\n                <tr>\n                        <th id=\"T_8478a894_e4b3_11ea_8f33_9801a7acd4e9level0_row0\" class=\"row_heading level0 row0\" >Male</th>\n                        <td id=\"T_8478a894_e4b3_11ea_8f33_9801a7acd4e9row0_col0\" class=\"data row0 col0\" >84.03</td>\n                        <td id=\"T_8478a894_e4b3_11ea_8f33_9801a7acd4e9row0_col1\" class=\"data row0 col1\" >484</td>\n            </tr>\n            <tr>\n                        <th id=\"T_8478a894_e4b3_11ea_8f33_9801a7acd4e9level0_row1\" class=\"row_heading level0 row1\" >Female</th>\n                        <td id=\"T_8478a894_e4b3_11ea_8f33_9801a7acd4e9row1_col0\" class=\"data row1 col0\" >14.06</td>\n                        <td id=\"T_8478a894_e4b3_11ea_8f33_9801a7acd4e9row1_col1\" class=\"data row1 col1\" >81</td>\n            </tr>\n            <tr>\n                        <th id=\"T_8478a894_e4b3_11ea_8f33_9801a7acd4e9level0_row2\" class=\"row_heading level0 row2\" >Other / Non-Disclosed</th>\n                        <td id=\"T_8478a894_e4b3_11ea_8f33_9801a7acd4e9row2_col0\" class=\"data row2 col0\" >1.91</td>\n                        <td id=\"T_8478a894_e4b3_11ea_8f33_9801a7acd4e9row2_col1\" class=\"data row2 col1\" >11</td>\n            </tr>\n    </tbody></table>"
     },
     "metadata": {},
     "execution_count": 4
    }
   ],
   "source": [
    "# Group data by gender\n",
    "gender_group = purchase_data.groupby(\"Gender\")\n",
    "\n",
    "# Count SN by gender\n",
    "total_per_gender = gender_group.nunique()[\"SN\"]\n",
    "\n",
    "# Percent count by gender\n",
    "total_percent_per_gender = total_per_gender/total_players *100\n",
    "\n",
    "# Create dataframe to store information\n",
    "gender_demographics_df = pd.DataFrame({\"Percentage of Players\": total_percent_per_gender, \"Total Count\": total_per_gender})\n",
    "\n",
    "# Data formatting\n",
    "gender_demographics_df.sort_values([\"Total Count\"], ascending=False).style.format({\"Percentage of Players\":\"{:.2f}\"})"
   ]
  },
  {
   "cell_type": "markdown",
   "metadata": {},
   "source": [
    "\n",
    "## Purchasing Analysis (Gender)"
   ]
  },
  {
   "cell_type": "markdown",
   "metadata": {},
   "source": [
    "* Run basic calculations to obtain purchase count, avg. purchase price, avg. purchase total per person etc. by gender\n",
    "\n",
    "\n",
    "\n",
    "\n",
    "* Create a summary data frame to hold the results\n",
    "\n",
    "\n",
    "* Optional: give the displayed data cleaner formatting\n",
    "\n",
    "\n",
    "* Display the summary data frame"
   ]
  },
  {
   "cell_type": "code",
   "execution_count": 5,
   "metadata": {},
   "outputs": [
    {
     "output_type": "execute_result",
     "data": {
      "text/plain": "<pandas.io.formats.style.Styler at 0x7fcf88831668>",
      "text/html": "<style  type=\"text/css\" >\n</style><table id=\"T_84844d1e_e4b3_11ea_be0e_9801a7acd4e9\" ><thead>    <tr>        <th class=\"blank level0\" ></th>        <th class=\"col_heading level0 col0\" >Purchase Count</th>        <th class=\"col_heading level0 col1\" >Average Purchase Price</th>        <th class=\"col_heading level0 col2\" >Total Purchase Value</th>        <th class=\"col_heading level0 col3\" >Average Total Purchase Per Person</th>    </tr>    <tr>        <th class=\"index_name level0\" >Gender</th>        <th class=\"blank\" ></th>        <th class=\"blank\" ></th>        <th class=\"blank\" ></th>        <th class=\"blank\" ></th>    </tr></thead><tbody>\n                <tr>\n                        <th id=\"T_84844d1e_e4b3_11ea_be0e_9801a7acd4e9level0_row0\" class=\"row_heading level0 row0\" >Female</th>\n                        <td id=\"T_84844d1e_e4b3_11ea_be0e_9801a7acd4e9row0_col0\" class=\"data row0 col0\" >113</td>\n                        <td id=\"T_84844d1e_e4b3_11ea_be0e_9801a7acd4e9row0_col1\" class=\"data row0 col1\" >$3.20</td>\n                        <td id=\"T_84844d1e_e4b3_11ea_be0e_9801a7acd4e9row0_col2\" class=\"data row0 col2\" >$361.94</td>\n                        <td id=\"T_84844d1e_e4b3_11ea_be0e_9801a7acd4e9row0_col3\" class=\"data row0 col3\" >$4.47</td>\n            </tr>\n            <tr>\n                        <th id=\"T_84844d1e_e4b3_11ea_be0e_9801a7acd4e9level0_row1\" class=\"row_heading level0 row1\" >Male</th>\n                        <td id=\"T_84844d1e_e4b3_11ea_be0e_9801a7acd4e9row1_col0\" class=\"data row1 col0\" >652</td>\n                        <td id=\"T_84844d1e_e4b3_11ea_be0e_9801a7acd4e9row1_col1\" class=\"data row1 col1\" >$3.02</td>\n                        <td id=\"T_84844d1e_e4b3_11ea_be0e_9801a7acd4e9row1_col2\" class=\"data row1 col2\" >$1,967.64</td>\n                        <td id=\"T_84844d1e_e4b3_11ea_be0e_9801a7acd4e9row1_col3\" class=\"data row1 col3\" >$4.07</td>\n            </tr>\n            <tr>\n                        <th id=\"T_84844d1e_e4b3_11ea_be0e_9801a7acd4e9level0_row2\" class=\"row_heading level0 row2\" >Other / Non-Disclosed</th>\n                        <td id=\"T_84844d1e_e4b3_11ea_be0e_9801a7acd4e9row2_col0\" class=\"data row2 col0\" >15</td>\n                        <td id=\"T_84844d1e_e4b3_11ea_be0e_9801a7acd4e9row2_col1\" class=\"data row2 col1\" >$3.35</td>\n                        <td id=\"T_84844d1e_e4b3_11ea_be0e_9801a7acd4e9row2_col2\" class=\"data row2 col2\" >$50.19</td>\n                        <td id=\"T_84844d1e_e4b3_11ea_be0e_9801a7acd4e9row2_col3\" class=\"data row2 col3\" >$4.56</td>\n            </tr>\n    </tbody></table>"
     },
     "metadata": {},
     "execution_count": 5
    }
   ],
   "source": [
    "# Use gender_group to determine the following\n",
    "\n",
    "# Determine the purchase count per gender\n",
    "purchase_count = gender_group[\"Purchase ID\"].count()\n",
    "\n",
    "# Average price per \n",
    "gender_avg_purchase = gender_group[\"Price\"].mean()\n",
    "\n",
    "# Average purchase total by gender\n",
    "gender_avg_total = gender_group[\"Price\"].sum()\n",
    "\n",
    "# Average purchase total by gender and purchase \n",
    "per_person_purchase_avg = gender_avg_total/total_per_gender\n",
    "\n",
    "# Create dataframe to store information\n",
    "Gender_Purchasing_Analysis_df = pd.DataFrame({\"Purchase Count\": purchase_count, \"Average Purchase Price\": gender_avg_purchase, \"Total Purchase Value\": gender_avg_total, \"Average Total Purchase Per Person\": per_person_purchase_avg})\n",
    "\n",
    "# Formatting\n",
    "Gender_Purchasing_Analysis_df.style.format({\"Total Purchase Value\":\"${:,.2f}\", \"Average Purchase Price\":\"${:,.2f}\", \"Average Total Purchase Per Person\":\"${:,.2f}\"})"
   ]
  },
  {
   "cell_type": "markdown",
   "metadata": {},
   "source": [
    "* Establish bins for ages\n",
    "\n",
    "\n",
    "* Categorize the existing players using the age bins. Hint: use pd.cut()\n",
    "\n",
    "\n",
    "* Calculate the numbers and percentages by age group\n",
    "\n",
    "\n",
    "* Create a summary data frame to hold the results\n",
    "\n",
    "\n",
    "* Optional: round the percentage column to two decimal points\n",
    "\n",
    "\n",
    "* Display Age Demographics Table\n"
   ]
  },
  {
   "cell_type": "code",
   "execution_count": 6,
   "metadata": {},
   "outputs": [
    {
     "output_type": "execute_result",
     "data": {
      "text/plain": "<pandas.io.formats.style.Styler at 0x7fcf883436a0>",
      "text/html": "<style  type=\"text/css\" >\n</style><table id=\"T_848d3278_e4b3_11ea_b981_9801a7acd4e9\" ><thead>    <tr>        <th class=\"blank level0\" ></th>        <th class=\"col_heading level0 col0\" >Percentage of Players</th>        <th class=\"col_heading level0 col1\" >Total Count</th>    </tr>    <tr>        <th class=\"index_name level0\" >Age Group</th>        <th class=\"blank\" ></th>        <th class=\"blank\" ></th>    </tr></thead><tbody>\n                <tr>\n                        <th id=\"T_848d3278_e4b3_11ea_b981_9801a7acd4e9level0_row0\" class=\"row_heading level0 row0\" ><10</th>\n                        <td id=\"T_848d3278_e4b3_11ea_b981_9801a7acd4e9row0_col0\" class=\"data row0 col0\" >2.95%</td>\n                        <td id=\"T_848d3278_e4b3_11ea_b981_9801a7acd4e9row0_col1\" class=\"data row0 col1\" >17</td>\n            </tr>\n            <tr>\n                        <th id=\"T_848d3278_e4b3_11ea_b981_9801a7acd4e9level0_row1\" class=\"row_heading level0 row1\" >10-14</th>\n                        <td id=\"T_848d3278_e4b3_11ea_b981_9801a7acd4e9row1_col0\" class=\"data row1 col0\" >3.82%</td>\n                        <td id=\"T_848d3278_e4b3_11ea_b981_9801a7acd4e9row1_col1\" class=\"data row1 col1\" >22</td>\n            </tr>\n            <tr>\n                        <th id=\"T_848d3278_e4b3_11ea_b981_9801a7acd4e9level0_row2\" class=\"row_heading level0 row2\" >15-19</th>\n                        <td id=\"T_848d3278_e4b3_11ea_b981_9801a7acd4e9row2_col0\" class=\"data row2 col0\" >18.58%</td>\n                        <td id=\"T_848d3278_e4b3_11ea_b981_9801a7acd4e9row2_col1\" class=\"data row2 col1\" >107</td>\n            </tr>\n            <tr>\n                        <th id=\"T_848d3278_e4b3_11ea_b981_9801a7acd4e9level0_row3\" class=\"row_heading level0 row3\" >20-24</th>\n                        <td id=\"T_848d3278_e4b3_11ea_b981_9801a7acd4e9row3_col0\" class=\"data row3 col0\" >44.79%</td>\n                        <td id=\"T_848d3278_e4b3_11ea_b981_9801a7acd4e9row3_col1\" class=\"data row3 col1\" >258</td>\n            </tr>\n            <tr>\n                        <th id=\"T_848d3278_e4b3_11ea_b981_9801a7acd4e9level0_row4\" class=\"row_heading level0 row4\" >25-29</th>\n                        <td id=\"T_848d3278_e4b3_11ea_b981_9801a7acd4e9row4_col0\" class=\"data row4 col0\" >13.37%</td>\n                        <td id=\"T_848d3278_e4b3_11ea_b981_9801a7acd4e9row4_col1\" class=\"data row4 col1\" >77</td>\n            </tr>\n            <tr>\n                        <th id=\"T_848d3278_e4b3_11ea_b981_9801a7acd4e9level0_row5\" class=\"row_heading level0 row5\" >30-34</th>\n                        <td id=\"T_848d3278_e4b3_11ea_b981_9801a7acd4e9row5_col0\" class=\"data row5 col0\" >9.03%</td>\n                        <td id=\"T_848d3278_e4b3_11ea_b981_9801a7acd4e9row5_col1\" class=\"data row5 col1\" >52</td>\n            </tr>\n            <tr>\n                        <th id=\"T_848d3278_e4b3_11ea_b981_9801a7acd4e9level0_row6\" class=\"row_heading level0 row6\" >35-39</th>\n                        <td id=\"T_848d3278_e4b3_11ea_b981_9801a7acd4e9row6_col0\" class=\"data row6 col0\" >5.38%</td>\n                        <td id=\"T_848d3278_e4b3_11ea_b981_9801a7acd4e9row6_col1\" class=\"data row6 col1\" >31</td>\n            </tr>\n            <tr>\n                        <th id=\"T_848d3278_e4b3_11ea_b981_9801a7acd4e9level0_row7\" class=\"row_heading level0 row7\" >40+</th>\n                        <td id=\"T_848d3278_e4b3_11ea_b981_9801a7acd4e9row7_col0\" class=\"data row7 col0\" >2.08%</td>\n                        <td id=\"T_848d3278_e4b3_11ea_b981_9801a7acd4e9row7_col1\" class=\"data row7 col1\" >12</td>\n            </tr>\n    </tbody></table>"
     },
     "metadata": {},
     "execution_count": 6
    }
   ],
   "source": [
    "# Create bins\n",
    "age_bin = [0, 9.90, 14.90, 19.90, 24.9, 29.9, 34.9, 39.9, 999]\n",
    "group_names = [\"<10\", \"10-14\", \"15-19\", \"20-24\", \"25-29\", \"30-34\", \"35-39\", \"40+\"]\n",
    "\n",
    "# Sort into bins\n",
    "purchase_data[\"Age Group\"] = pd.cut(purchase_data[\"Age\"],age_bin, labels = group_names)\n",
    "\n",
    "# group by age\n",
    "groupby_age = purchase_data.groupby(\"Age Group\")\n",
    "\n",
    "# Calculate count by age group\n",
    "count_age = groupby_age[\"SN\"].nunique()\n",
    "\n",
    "# Calculate Percentage by age group\n",
    "percentage_age = (count_age/total_players) * 100\n",
    "\n",
    "# Create dataframe to store information\n",
    "Age_Demographics_df = pd.DataFrame({\"Percentage of Players\":percentage_age, \"Total Count\": count_age})\n",
    "\n",
    "# Formatting\n",
    "Age_Demographics_df.style.format({\"Percentage of Players\":\"{:,.2f}%\"})"
   ]
  },
  {
   "cell_type": "markdown",
   "metadata": {},
   "source": [
    "## Purchasing Analysis (Age)"
   ]
  },
  {
   "cell_type": "markdown",
   "metadata": {},
   "source": [
    "* Bin the purchase_data data frame by age\n",
    "\n",
    "\n",
    "* Run basic calculations to obtain purchase count, avg. purchase price, avg. purchase total per person etc. in the table below\n",
    "\n",
    "\n",
    "* Create a summary data frame to hold the results\n",
    "\n",
    "\n",
    "* Optional: give the displayed data cleaner formatting\n",
    "\n",
    "\n",
    "* Display the summary data frame"
   ]
  },
  {
   "cell_type": "code",
   "execution_count": 7,
   "metadata": {},
   "outputs": [
    {
     "output_type": "execute_result",
     "data": {
      "text/plain": "<pandas.io.formats.style.Styler at 0x7fcf87088128>",
      "text/html": "<style  type=\"text/css\" >\n</style><table id=\"T_8499e536_e4b3_11ea_aee7_9801a7acd4e9\" ><thead>    <tr>        <th class=\"blank level0\" ></th>        <th class=\"col_heading level0 col0\" >Purchase Count</th>        <th class=\"col_heading level0 col1\" >Average Purchase Price</th>        <th class=\"col_heading level0 col2\" >Total Purchase Value</th>        <th class=\"col_heading level0 col3\" >Average Total Purchase Per Person</th>    </tr>    <tr>        <th class=\"index_name level0\" >Age Group</th>        <th class=\"blank\" ></th>        <th class=\"blank\" ></th>        <th class=\"blank\" ></th>        <th class=\"blank\" ></th>    </tr></thead><tbody>\n                <tr>\n                        <th id=\"T_8499e536_e4b3_11ea_aee7_9801a7acd4e9level0_row0\" class=\"row_heading level0 row0\" ><10</th>\n                        <td id=\"T_8499e536_e4b3_11ea_aee7_9801a7acd4e9row0_col0\" class=\"data row0 col0\" >23</td>\n                        <td id=\"T_8499e536_e4b3_11ea_aee7_9801a7acd4e9row0_col1\" class=\"data row0 col1\" >$3.35</td>\n                        <td id=\"T_8499e536_e4b3_11ea_aee7_9801a7acd4e9row0_col2\" class=\"data row0 col2\" >$77.13</td>\n                        <td id=\"T_8499e536_e4b3_11ea_aee7_9801a7acd4e9row0_col3\" class=\"data row0 col3\" >$4.54</td>\n            </tr>\n            <tr>\n                        <th id=\"T_8499e536_e4b3_11ea_aee7_9801a7acd4e9level0_row1\" class=\"row_heading level0 row1\" >10-14</th>\n                        <td id=\"T_8499e536_e4b3_11ea_aee7_9801a7acd4e9row1_col0\" class=\"data row1 col0\" >28</td>\n                        <td id=\"T_8499e536_e4b3_11ea_aee7_9801a7acd4e9row1_col1\" class=\"data row1 col1\" >$2.96</td>\n                        <td id=\"T_8499e536_e4b3_11ea_aee7_9801a7acd4e9row1_col2\" class=\"data row1 col2\" >$82.78</td>\n                        <td id=\"T_8499e536_e4b3_11ea_aee7_9801a7acd4e9row1_col3\" class=\"data row1 col3\" >$3.76</td>\n            </tr>\n            <tr>\n                        <th id=\"T_8499e536_e4b3_11ea_aee7_9801a7acd4e9level0_row2\" class=\"row_heading level0 row2\" >15-19</th>\n                        <td id=\"T_8499e536_e4b3_11ea_aee7_9801a7acd4e9row2_col0\" class=\"data row2 col0\" >136</td>\n                        <td id=\"T_8499e536_e4b3_11ea_aee7_9801a7acd4e9row2_col1\" class=\"data row2 col1\" >$3.04</td>\n                        <td id=\"T_8499e536_e4b3_11ea_aee7_9801a7acd4e9row2_col2\" class=\"data row2 col2\" >$412.89</td>\n                        <td id=\"T_8499e536_e4b3_11ea_aee7_9801a7acd4e9row2_col3\" class=\"data row2 col3\" >$3.86</td>\n            </tr>\n            <tr>\n                        <th id=\"T_8499e536_e4b3_11ea_aee7_9801a7acd4e9level0_row3\" class=\"row_heading level0 row3\" >20-24</th>\n                        <td id=\"T_8499e536_e4b3_11ea_aee7_9801a7acd4e9row3_col0\" class=\"data row3 col0\" >365</td>\n                        <td id=\"T_8499e536_e4b3_11ea_aee7_9801a7acd4e9row3_col1\" class=\"data row3 col1\" >$3.05</td>\n                        <td id=\"T_8499e536_e4b3_11ea_aee7_9801a7acd4e9row3_col2\" class=\"data row3 col2\" >$1,114.06</td>\n                        <td id=\"T_8499e536_e4b3_11ea_aee7_9801a7acd4e9row3_col3\" class=\"data row3 col3\" >$4.32</td>\n            </tr>\n            <tr>\n                        <th id=\"T_8499e536_e4b3_11ea_aee7_9801a7acd4e9level0_row4\" class=\"row_heading level0 row4\" >25-29</th>\n                        <td id=\"T_8499e536_e4b3_11ea_aee7_9801a7acd4e9row4_col0\" class=\"data row4 col0\" >101</td>\n                        <td id=\"T_8499e536_e4b3_11ea_aee7_9801a7acd4e9row4_col1\" class=\"data row4 col1\" >$2.90</td>\n                        <td id=\"T_8499e536_e4b3_11ea_aee7_9801a7acd4e9row4_col2\" class=\"data row4 col2\" >$293.00</td>\n                        <td id=\"T_8499e536_e4b3_11ea_aee7_9801a7acd4e9row4_col3\" class=\"data row4 col3\" >$3.81</td>\n            </tr>\n            <tr>\n                        <th id=\"T_8499e536_e4b3_11ea_aee7_9801a7acd4e9level0_row5\" class=\"row_heading level0 row5\" >30-34</th>\n                        <td id=\"T_8499e536_e4b3_11ea_aee7_9801a7acd4e9row5_col0\" class=\"data row5 col0\" >73</td>\n                        <td id=\"T_8499e536_e4b3_11ea_aee7_9801a7acd4e9row5_col1\" class=\"data row5 col1\" >$2.93</td>\n                        <td id=\"T_8499e536_e4b3_11ea_aee7_9801a7acd4e9row5_col2\" class=\"data row5 col2\" >$214.00</td>\n                        <td id=\"T_8499e536_e4b3_11ea_aee7_9801a7acd4e9row5_col3\" class=\"data row5 col3\" >$4.12</td>\n            </tr>\n            <tr>\n                        <th id=\"T_8499e536_e4b3_11ea_aee7_9801a7acd4e9level0_row6\" class=\"row_heading level0 row6\" >35-39</th>\n                        <td id=\"T_8499e536_e4b3_11ea_aee7_9801a7acd4e9row6_col0\" class=\"data row6 col0\" >41</td>\n                        <td id=\"T_8499e536_e4b3_11ea_aee7_9801a7acd4e9row6_col1\" class=\"data row6 col1\" >$3.60</td>\n                        <td id=\"T_8499e536_e4b3_11ea_aee7_9801a7acd4e9row6_col2\" class=\"data row6 col2\" >$147.67</td>\n                        <td id=\"T_8499e536_e4b3_11ea_aee7_9801a7acd4e9row6_col3\" class=\"data row6 col3\" >$4.76</td>\n            </tr>\n            <tr>\n                        <th id=\"T_8499e536_e4b3_11ea_aee7_9801a7acd4e9level0_row7\" class=\"row_heading level0 row7\" >40+</th>\n                        <td id=\"T_8499e536_e4b3_11ea_aee7_9801a7acd4e9row7_col0\" class=\"data row7 col0\" >13</td>\n                        <td id=\"T_8499e536_e4b3_11ea_aee7_9801a7acd4e9row7_col1\" class=\"data row7 col1\" >$2.94</td>\n                        <td id=\"T_8499e536_e4b3_11ea_aee7_9801a7acd4e9row7_col2\" class=\"data row7 col2\" >$38.24</td>\n                        <td id=\"T_8499e536_e4b3_11ea_aee7_9801a7acd4e9row7_col3\" class=\"data row7 col3\" >$3.19</td>\n            </tr>\n    </tbody></table>"
     },
     "metadata": {},
     "execution_count": 7
    }
   ],
   "source": [
    "# Use bins from above for by age below\n",
    "\n",
    "# Purchase Count\n",
    "purchase_count_age = groupby_age[\"Purchase ID\"].count()\n",
    "\n",
    "# Average purchase price\n",
    "average_price_age = groupby_age[\"Price\"].mean()\n",
    "\n",
    "# Total purchase value by age\n",
    "total_purchase_age = groupby_age[\"Price\"].sum()\n",
    "\n",
    "# Average purchase per person by age\n",
    "average_purchase_person__age = total_purchase_age/count_age\n",
    "\n",
    "# Create data frame to store information\n",
    "Purchasing_Analysis_Age_df = pd.DataFrame({\"Purchase Count\":purchase_count_age, \"Average Purchase Price\": average_price_age, \"Total Purchase Value\": total_purchase_age, \"Average Total Purchase Per Person\": average_purchase_person__age})\n",
    "\n",
    "# Formatting\n",
    "Purchasing_Analysis_Age_df.style.format({\"Average Purchase Price\":\"${:,.2f}\", \"Total Purchase Value\":\"${:,.2f}\", \"Average Total Purchase Per Person\":\"${:,.2f}\"})"
   ]
  },
  {
   "cell_type": "markdown",
   "metadata": {},
   "source": [
    "## Top Spenders"
   ]
  },
  {
   "cell_type": "markdown",
   "metadata": {},
   "source": [
    "* Run basic calculations to obtain the results in the table below\n",
    "\n",
    "\n",
    "* Create a summary data frame to hold the results\n",
    "\n",
    "\n",
    "* Sort the total purchase value column in descending order\n",
    "\n",
    "\n",
    "* Optional: give the displayed data cleaner formatting\n",
    "\n",
    "\n",
    "* Display a preview of the summary data frame\n",
    "\n"
   ]
  },
  {
   "cell_type": "code",
   "execution_count": 8,
   "metadata": {},
   "outputs": [
    {
     "output_type": "execute_result",
     "data": {
      "text/plain": "<pandas.io.formats.style.Styler at 0x7fcf895449e8>",
      "text/html": "<style  type=\"text/css\" >\n</style><table id=\"T_84a0da08_e4b3_11ea_85e8_9801a7acd4e9\" ><thead>    <tr>        <th class=\"blank level0\" ></th>        <th class=\"col_heading level0 col0\" >Purchase Count</th>        <th class=\"col_heading level0 col1\" >Average Purchase Price</th>        <th class=\"col_heading level0 col2\" >Total Purchase Value</th>    </tr>    <tr>        <th class=\"index_name level0\" >SN</th>        <th class=\"blank\" ></th>        <th class=\"blank\" ></th>        <th class=\"blank\" ></th>    </tr></thead><tbody>\n                <tr>\n                        <th id=\"T_84a0da08_e4b3_11ea_85e8_9801a7acd4e9level0_row0\" class=\"row_heading level0 row0\" >Lisosia93</th>\n                        <td id=\"T_84a0da08_e4b3_11ea_85e8_9801a7acd4e9row0_col0\" class=\"data row0 col0\" >5</td>\n                        <td id=\"T_84a0da08_e4b3_11ea_85e8_9801a7acd4e9row0_col1\" class=\"data row0 col1\" >$3.79</td>\n                        <td id=\"T_84a0da08_e4b3_11ea_85e8_9801a7acd4e9row0_col2\" class=\"data row0 col2\" >$18.96</td>\n            </tr>\n            <tr>\n                        <th id=\"T_84a0da08_e4b3_11ea_85e8_9801a7acd4e9level0_row1\" class=\"row_heading level0 row1\" >Idastidru52</th>\n                        <td id=\"T_84a0da08_e4b3_11ea_85e8_9801a7acd4e9row1_col0\" class=\"data row1 col0\" >4</td>\n                        <td id=\"T_84a0da08_e4b3_11ea_85e8_9801a7acd4e9row1_col1\" class=\"data row1 col1\" >$3.86</td>\n                        <td id=\"T_84a0da08_e4b3_11ea_85e8_9801a7acd4e9row1_col2\" class=\"data row1 col2\" >$15.45</td>\n            </tr>\n            <tr>\n                        <th id=\"T_84a0da08_e4b3_11ea_85e8_9801a7acd4e9level0_row2\" class=\"row_heading level0 row2\" >Chamjask73</th>\n                        <td id=\"T_84a0da08_e4b3_11ea_85e8_9801a7acd4e9row2_col0\" class=\"data row2 col0\" >3</td>\n                        <td id=\"T_84a0da08_e4b3_11ea_85e8_9801a7acd4e9row2_col1\" class=\"data row2 col1\" >$4.61</td>\n                        <td id=\"T_84a0da08_e4b3_11ea_85e8_9801a7acd4e9row2_col2\" class=\"data row2 col2\" >$13.83</td>\n            </tr>\n            <tr>\n                        <th id=\"T_84a0da08_e4b3_11ea_85e8_9801a7acd4e9level0_row3\" class=\"row_heading level0 row3\" >Iral74</th>\n                        <td id=\"T_84a0da08_e4b3_11ea_85e8_9801a7acd4e9row3_col0\" class=\"data row3 col0\" >4</td>\n                        <td id=\"T_84a0da08_e4b3_11ea_85e8_9801a7acd4e9row3_col1\" class=\"data row3 col1\" >$3.40</td>\n                        <td id=\"T_84a0da08_e4b3_11ea_85e8_9801a7acd4e9row3_col2\" class=\"data row3 col2\" >$13.62</td>\n            </tr>\n            <tr>\n                        <th id=\"T_84a0da08_e4b3_11ea_85e8_9801a7acd4e9level0_row4\" class=\"row_heading level0 row4\" >Iskadarya95</th>\n                        <td id=\"T_84a0da08_e4b3_11ea_85e8_9801a7acd4e9row4_col0\" class=\"data row4 col0\" >3</td>\n                        <td id=\"T_84a0da08_e4b3_11ea_85e8_9801a7acd4e9row4_col1\" class=\"data row4 col1\" >$4.37</td>\n                        <td id=\"T_84a0da08_e4b3_11ea_85e8_9801a7acd4e9row4_col2\" class=\"data row4 col2\" >$13.10</td>\n            </tr>\n    </tbody></table>"
     },
     "metadata": {},
     "execution_count": 8
    }
   ],
   "source": [
    "# Group by screenname\n",
    "top_spenders = purchase_data.groupby(\"SN\")\n",
    "\n",
    "# Total purchases by screenname\n",
    "spender_purchase_count = top_spenders[\"Purchase ID\"].count()\n",
    "\n",
    "# Average purchase by screenname\n",
    "spender_average_purchase_price = top_spenders[\"Price\"].mean()\n",
    "\n",
    "# Purcahse total by spender\n",
    "spender_purchase_total = top_spenders[\"Price\"].sum()\n",
    "\n",
    "# Create dataframe to store information\n",
    "Top_Spenders_df = pd.DataFrame({\"Purchase Count\": spender_purchase_count, \"Average Purchase Price\": spender_average_purchase_price, \"Total Purchase Value\": spender_purchase_total})\n",
    "\n",
    "# Sort total purchase in descending order - top 5\n",
    "top5_spenders = Top_Spenders_df.sort_values([\"Total Purchase Value\"], ascending=False).head()\n",
    "\n",
    "# Formatting\n",
    "top5_spenders.style.format({\"Average Purchase Price\":\"${:,.2f}\", \"Total Purchase Value\":\"${:,.2f}\"})"
   ]
  },
  {
   "cell_type": "markdown",
   "metadata": {},
   "source": [
    "## Most Popular Items"
   ]
  },
  {
   "cell_type": "markdown",
   "metadata": {},
   "source": [
    "* Retrieve the Item ID, Item Name, and Item Price columns\n",
    "\n",
    "\n",
    "* Group by Item ID and Item Name. Perform calculations to obtain purchase count, item price, and total purchase value\n",
    "\n",
    "\n",
    "* Create a summary data frame to hold the results\n",
    "\n",
    "\n",
    "* Sort the purchase count column in descending order\n",
    "\n",
    "\n",
    "* Optional: give the displayed data cleaner formatting\n",
    "\n",
    "\n",
    "* Display a preview of the summary data frame\n",
    "\n"
   ]
  },
  {
   "cell_type": "code",
   "execution_count": 9,
   "metadata": {},
   "outputs": [
    {
     "output_type": "execute_result",
     "data": {
      "text/plain": "<pandas.io.formats.style.Styler at 0x7fcf894d3828>",
      "text/html": "<style  type=\"text/css\" >\n</style><table id=\"T_84a8931a_e4b3_11ea_b528_9801a7acd4e9\" ><thead>    <tr>        <th class=\"blank\" ></th>        <th class=\"blank level0\" ></th>        <th class=\"col_heading level0 col0\" >Purchase Count</th>        <th class=\"col_heading level0 col1\" >Item Price</th>        <th class=\"col_heading level0 col2\" >Total Purchase Value</th>    </tr>    <tr>        <th class=\"index_name level0\" >Item ID</th>        <th class=\"index_name level1\" >Item Name</th>        <th class=\"blank\" ></th>        <th class=\"blank\" ></th>        <th class=\"blank\" ></th>    </tr></thead><tbody>\n                <tr>\n                        <th id=\"T_84a8931a_e4b3_11ea_b528_9801a7acd4e9level0_row0\" class=\"row_heading level0 row0\" >92</th>\n                        <th id=\"T_84a8931a_e4b3_11ea_b528_9801a7acd4e9level1_row0\" class=\"row_heading level1 row0\" >Final Critic</th>\n                        <td id=\"T_84a8931a_e4b3_11ea_b528_9801a7acd4e9row0_col0\" class=\"data row0 col0\" >13</td>\n                        <td id=\"T_84a8931a_e4b3_11ea_b528_9801a7acd4e9row0_col1\" class=\"data row0 col1\" >$4.61</td>\n                        <td id=\"T_84a8931a_e4b3_11ea_b528_9801a7acd4e9row0_col2\" class=\"data row0 col2\" >$59.99</td>\n            </tr>\n            <tr>\n                        <th id=\"T_84a8931a_e4b3_11ea_b528_9801a7acd4e9level0_row1\" class=\"row_heading level0 row1\" >178</th>\n                        <th id=\"T_84a8931a_e4b3_11ea_b528_9801a7acd4e9level1_row1\" class=\"row_heading level1 row1\" >Oathbreaker, Last Hope of the Breaking Storm</th>\n                        <td id=\"T_84a8931a_e4b3_11ea_b528_9801a7acd4e9row1_col0\" class=\"data row1 col0\" >12</td>\n                        <td id=\"T_84a8931a_e4b3_11ea_b528_9801a7acd4e9row1_col1\" class=\"data row1 col1\" >$4.23</td>\n                        <td id=\"T_84a8931a_e4b3_11ea_b528_9801a7acd4e9row1_col2\" class=\"data row1 col2\" >$50.76</td>\n            </tr>\n            <tr>\n                        <th id=\"T_84a8931a_e4b3_11ea_b528_9801a7acd4e9level0_row2\" class=\"row_heading level0 row2\" >145</th>\n                        <th id=\"T_84a8931a_e4b3_11ea_b528_9801a7acd4e9level1_row2\" class=\"row_heading level1 row2\" >Fiery Glass Crusader</th>\n                        <td id=\"T_84a8931a_e4b3_11ea_b528_9801a7acd4e9row2_col0\" class=\"data row2 col0\" >9</td>\n                        <td id=\"T_84a8931a_e4b3_11ea_b528_9801a7acd4e9row2_col1\" class=\"data row2 col1\" >$4.58</td>\n                        <td id=\"T_84a8931a_e4b3_11ea_b528_9801a7acd4e9row2_col2\" class=\"data row2 col2\" >$41.22</td>\n            </tr>\n            <tr>\n                        <th id=\"T_84a8931a_e4b3_11ea_b528_9801a7acd4e9level0_row3\" class=\"row_heading level0 row3\" >132</th>\n                        <th id=\"T_84a8931a_e4b3_11ea_b528_9801a7acd4e9level1_row3\" class=\"row_heading level1 row3\" >Persuasion</th>\n                        <td id=\"T_84a8931a_e4b3_11ea_b528_9801a7acd4e9row3_col0\" class=\"data row3 col0\" >9</td>\n                        <td id=\"T_84a8931a_e4b3_11ea_b528_9801a7acd4e9row3_col1\" class=\"data row3 col1\" >$3.22</td>\n                        <td id=\"T_84a8931a_e4b3_11ea_b528_9801a7acd4e9row3_col2\" class=\"data row3 col2\" >$28.99</td>\n            </tr>\n            <tr>\n                        <th id=\"T_84a8931a_e4b3_11ea_b528_9801a7acd4e9level0_row4\" class=\"row_heading level0 row4\" >108</th>\n                        <th id=\"T_84a8931a_e4b3_11ea_b528_9801a7acd4e9level1_row4\" class=\"row_heading level1 row4\" >Extraction, Quickblade Of Trembling Hands</th>\n                        <td id=\"T_84a8931a_e4b3_11ea_b528_9801a7acd4e9row4_col0\" class=\"data row4 col0\" >9</td>\n                        <td id=\"T_84a8931a_e4b3_11ea_b528_9801a7acd4e9row4_col1\" class=\"data row4 col1\" >$3.53</td>\n                        <td id=\"T_84a8931a_e4b3_11ea_b528_9801a7acd4e9row4_col2\" class=\"data row4 col2\" >$31.77</td>\n            </tr>\n    </tbody></table>"
     },
     "metadata": {},
     "execution_count": 9
    }
   ],
   "source": [
    "# Retrieve item id, item name, and item price columns\n",
    "items_retrieved = purchase_data[[\"Item ID\", \"Item Name\", \"Price\"]]\n",
    "\n",
    "#  Group item data by item id and item name\n",
    "items_grouped = items_retrieved.groupby([\"Item ID\", \"Item Name\"])\n",
    "\n",
    "# Purchase count per item\n",
    "item_purchase_count = items_grouped[\"Price\"].count()\n",
    "\n",
    "# Total purchase value\n",
    "item_purchase_value = (items_grouped[\"Price\"].sum())\n",
    "\n",
    "# Item price\n",
    "price_per_item = item_purchase_value/item_purchase_count\n",
    "\n",
    "# Create Dataframe to store information\n",
    "Most_Popular_Items_df = pd.DataFrame({\"Purchase Count\": item_purchase_count, \"Item Price\": price_per_item, \"Total Purchase Value\": item_purchase_value})\n",
    "\n",
    "# Sort by purchase count in descending order\n",
    "Most_Popular_Items_Formatted_df = Most_Popular_Items_df.sort_values([\"Purchase Count\"], ascending=False).head()\n",
    "\n",
    "# Formatting\n",
    "Most_Popular_Items_Formatted_df.style.format({\"Item Price\":\"${:,.2f}\", \"Total Purchase Value\":\"${:,.2f}\"})"
   ]
  },
  {
   "cell_type": "markdown",
   "metadata": {},
   "source": [
    "## Most Profitable Items"
   ]
  },
  {
   "cell_type": "markdown",
   "metadata": {},
   "source": [
    "* Sort the above table by total purchase value in descending order\n",
    "\n",
    "\n",
    "* Optional: give the displayed data cleaner formatting\n",
    "\n",
    "\n",
    "* Display a preview of the data frame\n",
    "\n"
   ]
  },
  {
   "cell_type": "code",
   "execution_count": 10,
   "metadata": {
    "scrolled": true
   },
   "outputs": [
    {
     "output_type": "execute_result",
     "data": {
      "text/plain": "<pandas.io.formats.style.Styler at 0x7fcf8832e860>",
      "text/html": "<style  type=\"text/css\" >\n</style><table id=\"T_84adbbec_e4b3_11ea_8530_9801a7acd4e9\" ><thead>    <tr>        <th class=\"blank\" ></th>        <th class=\"blank level0\" ></th>        <th class=\"col_heading level0 col0\" >Purchase Count</th>        <th class=\"col_heading level0 col1\" >Item Price</th>        <th class=\"col_heading level0 col2\" >Total Purchase Value</th>    </tr>    <tr>        <th class=\"index_name level0\" >Item ID</th>        <th class=\"index_name level1\" >Item Name</th>        <th class=\"blank\" ></th>        <th class=\"blank\" ></th>        <th class=\"blank\" ></th>    </tr></thead><tbody>\n                <tr>\n                        <th id=\"T_84adbbec_e4b3_11ea_8530_9801a7acd4e9level0_row0\" class=\"row_heading level0 row0\" >92</th>\n                        <th id=\"T_84adbbec_e4b3_11ea_8530_9801a7acd4e9level1_row0\" class=\"row_heading level1 row0\" >Final Critic</th>\n                        <td id=\"T_84adbbec_e4b3_11ea_8530_9801a7acd4e9row0_col0\" class=\"data row0 col0\" >13</td>\n                        <td id=\"T_84adbbec_e4b3_11ea_8530_9801a7acd4e9row0_col1\" class=\"data row0 col1\" >$4.61</td>\n                        <td id=\"T_84adbbec_e4b3_11ea_8530_9801a7acd4e9row0_col2\" class=\"data row0 col2\" >$59.99</td>\n            </tr>\n            <tr>\n                        <th id=\"T_84adbbec_e4b3_11ea_8530_9801a7acd4e9level0_row1\" class=\"row_heading level0 row1\" >178</th>\n                        <th id=\"T_84adbbec_e4b3_11ea_8530_9801a7acd4e9level1_row1\" class=\"row_heading level1 row1\" >Oathbreaker, Last Hope of the Breaking Storm</th>\n                        <td id=\"T_84adbbec_e4b3_11ea_8530_9801a7acd4e9row1_col0\" class=\"data row1 col0\" >12</td>\n                        <td id=\"T_84adbbec_e4b3_11ea_8530_9801a7acd4e9row1_col1\" class=\"data row1 col1\" >$4.23</td>\n                        <td id=\"T_84adbbec_e4b3_11ea_8530_9801a7acd4e9row1_col2\" class=\"data row1 col2\" >$50.76</td>\n            </tr>\n            <tr>\n                        <th id=\"T_84adbbec_e4b3_11ea_8530_9801a7acd4e9level0_row2\" class=\"row_heading level0 row2\" >82</th>\n                        <th id=\"T_84adbbec_e4b3_11ea_8530_9801a7acd4e9level1_row2\" class=\"row_heading level1 row2\" >Nirvana</th>\n                        <td id=\"T_84adbbec_e4b3_11ea_8530_9801a7acd4e9row2_col0\" class=\"data row2 col0\" >9</td>\n                        <td id=\"T_84adbbec_e4b3_11ea_8530_9801a7acd4e9row2_col1\" class=\"data row2 col1\" >$4.90</td>\n                        <td id=\"T_84adbbec_e4b3_11ea_8530_9801a7acd4e9row2_col2\" class=\"data row2 col2\" >$44.10</td>\n            </tr>\n            <tr>\n                        <th id=\"T_84adbbec_e4b3_11ea_8530_9801a7acd4e9level0_row3\" class=\"row_heading level0 row3\" >145</th>\n                        <th id=\"T_84adbbec_e4b3_11ea_8530_9801a7acd4e9level1_row3\" class=\"row_heading level1 row3\" >Fiery Glass Crusader</th>\n                        <td id=\"T_84adbbec_e4b3_11ea_8530_9801a7acd4e9row3_col0\" class=\"data row3 col0\" >9</td>\n                        <td id=\"T_84adbbec_e4b3_11ea_8530_9801a7acd4e9row3_col1\" class=\"data row3 col1\" >$4.58</td>\n                        <td id=\"T_84adbbec_e4b3_11ea_8530_9801a7acd4e9row3_col2\" class=\"data row3 col2\" >$41.22</td>\n            </tr>\n            <tr>\n                        <th id=\"T_84adbbec_e4b3_11ea_8530_9801a7acd4e9level0_row4\" class=\"row_heading level0 row4\" >103</th>\n                        <th id=\"T_84adbbec_e4b3_11ea_8530_9801a7acd4e9level1_row4\" class=\"row_heading level1 row4\" >Singed Scalpel</th>\n                        <td id=\"T_84adbbec_e4b3_11ea_8530_9801a7acd4e9row4_col0\" class=\"data row4 col0\" >8</td>\n                        <td id=\"T_84adbbec_e4b3_11ea_8530_9801a7acd4e9row4_col1\" class=\"data row4 col1\" >$4.35</td>\n                        <td id=\"T_84adbbec_e4b3_11ea_8530_9801a7acd4e9row4_col2\" class=\"data row4 col2\" >$34.80</td>\n            </tr>\n    </tbody></table>"
     },
     "metadata": {},
     "execution_count": 10
    }
   ],
   "source": [
    "# sorty by purchase value\n",
    "Most_Popular_Items_Formatted_df = Most_Popular_Items_df.sort_values([\"Total Purchase Value\"], ascending=False).head()\n",
    "\n",
    "# Formatting\n",
    "Most_Popular_Items_Formatted_df.style.format({\"Item Price\":\"${:,.2f}\", \"Total Purchase Value\":\"${:,.2f}\"})"
   ]
  },
  {
   "cell_type": "code",
   "execution_count": null,
   "metadata": {},
   "outputs": [],
   "source": []
  }
 ],
 "metadata": {
  "anaconda-cloud": {},
  "kernel_info": {
   "name": "python3"
  },
  "kernelspec": {
   "display_name": "Python 3",
   "language": "python",
   "name": "python3"
  },
  "language_info": {
   "codemirror_mode": {
    "name": "ipython",
    "version": 3
   },
   "file_extension": ".py",
   "mimetype": "text/x-python",
   "name": "python",
   "nbconvert_exporter": "python",
   "pygments_lexer": "ipython3",
   "version": "3.7.6"
  },
  "latex_envs": {
   "LaTeX_envs_menu_present": true,
   "autoclose": false,
   "autocomplete": true,
   "bibliofile": "biblio.bib",
   "cite_by": "apalike",
   "current_citInitial": 1,
   "eqLabelWithNumbers": true,
   "eqNumInitial": 1,
   "hotkeys": {
    "equation": "Ctrl-E",
    "itemize": "Ctrl-I"
   },
   "labels_anchors": false,
   "latex_user_defs": false,
   "report_style_numbering": false,
   "user_envs_cfg": false
  },
  "nteract": {
   "version": "0.2.0"
  }
 },
 "nbformat": 4,
 "nbformat_minor": 2
}